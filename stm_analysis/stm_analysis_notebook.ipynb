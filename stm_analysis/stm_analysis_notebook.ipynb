{
 "cells": [
  {
   "cell_type": "markdown",
   "metadata": {
    "deletable": true,
    "editable": true
   },
   "source": [
    "    Version control:\n",
    "      Last updated Jupyter notebook: 15-05-2017\n",
    "      Compatible MATRIX versions: 3.3.1, 3.0.\n",
    "      Python version: 3.6.1\n",
    "    \n",
    "    Authors:\n",
    "      Procopios Constantinou & Tobias Gill\n",
    "      London Centre for Nanotechnology\n",
    "      procopios.constantinou.16@ucl.ac.uk\n",
    "      toby.gill.09@ucl.ac.uk"
   ]
  },
  {
   "cell_type": "markdown",
   "metadata": {
    "deletable": true,
    "editable": true
   },
   "source": [
    "# STM data summary and analysis platform\n",
    "\n",
    "### Contents\n",
    "* [0 - Installing Jupyter Notebook](#0)\n",
    "* [1 - Data selection](#1)\n",
    "* [2 - Topography analysis](#2)\n",
    "* [3 - Spectroscopy I(V) analysis](#3)\n",
    "* [4 - Current-distance I(z) analysis](#4)\n",
    "* [5 - Current-imaging-tunneling spectroscopy (CITS) analysis](#5)\n",
    "* [6 - Supplementary information](#6)"
   ]
  },
  {
   "cell_type": "markdown",
   "metadata": {
    "deletable": true,
    "editable": true
   },
   "source": [
    "This is a [Jupyter notebook](http://jupyter.readthedocs.io/en/latest/) that summarises and analyses any data obtained from STM experiments performed at the [London Centre for Nanotechnology (LCN)](https://www.london-nano.com/). The raw data can take the form of a topography scan (*.Z_flat* file), a spectroscopy scan (*.I(V)_flat* file) and a current-distance scan (*.I(Z)_flat* file) - all of which are displayed and analysed within this Jupyter notebook.\n",
    "\n",
    "There are two essential requirements for this Jupyter notebook to run without any issues:\n",
    "- The initial raw MATRIX files must be converted to flat-files by using the [Vernissage](http://www.scientaomicron.com/en/software-downloads-matrix-spm-control/55) software, available by Scienta Omicron, for them to be viewed and/or analysed by this Jupyter notebook. More importantly, this will then allow you to use Vernissage as a data reduction tool, such that all the *good* and *sensible* data can be imported into this Jupyter notebook for viewing and subsequent analysis.\n",
    "- The path to the parent directory, that holds all the data directories, each of which contain all the flat-files, must be defined by the *dataPath* variable and the path to the directory that contains the stm-analysis module must be defined by the *modulePath* variable.\n",
    "\n",
    "\n",
    "This Jupyter notebook uses a *minimalistic* and *simplistic* interface so that you can get started right away, even with no prior training to the Python language."
   ]
  },
  {
   "cell_type": "markdown",
   "metadata": {
    "deletable": true,
    "editable": true
   },
   "source": [
    "## 0 - Installing Jupyter Notebook <a class=\"anchor\" id=\"0\"></a>\n",
    "While Jupyter runs code in many programming languages, Python is a requirement (Python 3.3 or greater, or Python 2.7) for installing the Jupyter Notebook. For new users, it is highly recommended [installing Anaconda](https://www.continuum.io/downloads). Anaconda conveniently installs Python, the Jupyter Notebook, and other commonly used packages for scientific computing and data science. It essentially is all you need, for either Mac or Windows.\n",
    "\n",
    "Use the following installation steps:\n",
    "\n",
    "1. Download [Anaconda](https://www.continuum.io/downloads) and it is recommended to download Anaconda’s latest Python 3 version (currently Python 3.6.1).\n",
    "2. Install the version of Anaconda which you downloaded, following the instructions on the download page.\n",
    "3. Once Anaconda has been downloaded, run the Anaconda (or Anaconda - Navigator) application and on the home-page, select install Jupyter notebook.\n",
    "4. Congratulations, you have installed Jupyter Notebook and can get started right away! \n",
    "\n",
    "*Hint: All you need to know is the < Shift > < Enter > command that runs a cell of Python code within the Jupyter notebook.*"
   ]
  },
  {
   "cell_type": "markdown",
   "metadata": {
    "deletable": true,
    "editable": true
   },
   "source": [
    "## 1 - Data selection <a class=\"anchor\" id=\"1\"></a>\n",
    "This first section of the Jupyter notebook is critical, as the data you select here is what will be subsequently displayed and analysed. Furthermore, this is the only section upon which all others are dependent upon because all of the analysis sections run completely independent from one another.\n",
    "\n",
    "\n",
    "You should make sure the correct file path is written for both the *dataPath* and *modulePath* variables;\n",
    "- *dataPath*: The path to the directory that holds the **folders** of all the different STM flat-file data.\n",
    "- *modulePath*: The path to the directory that holds the **stm_analysis.py** script, which yields all the classes and functions to perform all the data-viewing and analysis.\n",
    "\n",
    "\n",
    "If this is done correctly, the code in this section will run smoothly and the output will be a set of iPython button widgets (whose labels are identical to the folder names) that will allow you to select which folder of flat-file data should be loaded as the *data* object, which will hold all of the data from the chosen directory. One important thing to note is that if you select a different data directory during the analysis, all the analysis code will need to be restarted again (easiest to do this by going to the menu and selecting 'Kernel > Restart and Run all')."
   ]
  },
  {
   "cell_type": "markdown",
   "metadata": {
    "deletable": true,
    "editable": true
   },
   "source": [
    "The true power of this Jupyter notebook is that it allows you to load in **multiple folders simultaneously**, from **completly different *dataPath* directories**. If you wish to exploit this, all you need to do is follow the convention laid out here:\n",
    "- If you wish to select multiple folders of data from the **same** *dataPath* directory, then you can create multiple *data* objects (labelled *data_1*, *data_2*, ..., *data_N*) from the same *dataPath*, which can each be called by '*data_N = stm.DataSelection(dataPath)*'.\n",
    "- If you wish to select multiple folders of data from **different** *dataPath* directories, then you can define each *dataPath* explicitly (labelled *dataPath_1*, *dataPath_2*, ..., *dataPath_N*) and then create unique *data* objects (labelled *data_1*, *data_2*, ..., *data_N*) associated with each *dataPath* defined. This can be called by '*data_N = stm.DataSelection(dataPath_N)*'.\n",
    "- Finally, all subsequent viewing and data analysis on all these different *data_N* objects can be performed by passing each *data_N* object through the stm analysis code, within the same cells. This will then display all the output figures adjacent to eachother, allowing them to be easily and simultaneously compared."
   ]
  },
  {
   "cell_type": "code",
   "execution_count": 1,
   "metadata": {
    "collapsed": false,
    "deletable": true,
    "editable": true
   },
   "outputs": [],
   "source": [
    "# Loading in the file path the stm analysis module\n",
    "modulePath = '/Users/pconstantinou/Documents/Prog_GitHub/STM_flatfile_analysis/stm_analysis/'\n",
    "# Loading in the file path to data_1 directories\n",
    "dataPath_1 = '/Users/pconstantinou/Documents/stm_data/'"
   ]
  },
  {
   "cell_type": "code",
   "execution_count": 2,
   "metadata": {
    "collapsed": false,
    "deletable": true,
    "editable": true
   },
   "outputs": [],
   "source": [
    "# Forcing all figures to be plotted in-line throughout the JuPyter notebook\n",
    "%matplotlib inline\n",
    "# Importing all the necessary python modules\n",
    "import sys                                   # Import the system parameters\n",
    "sys.path.insert(0, modulePath)               # Change the working directory to that of the stm analysis modules\n",
    "import stm_analysis as stm                   # Import the stm-analysis code"
   ]
  },
  {
   "cell_type": "code",
   "execution_count": 3,
   "metadata": {
    "collapsed": false,
    "deletable": true,
    "editable": true
   },
   "outputs": [
    {
     "data": {
      "application/vnd.jupyter.widget-view+json": {
       "model_id": "71acc2740bd34b499f976b73c779e2b4"
      }
     },
     "metadata": {},
     "output_type": "display_data"
    },
    {
     "data": {
      "application/vnd.jupyter.widget-view+json": {
       "model_id": "37d3b65a5ada4be9b27403ffad6ea40a"
      }
     },
     "metadata": {},
     "output_type": "display_data"
    }
   ],
   "source": [
    "# Define the data objects that will extract all STM data from the selected data directories\n",
    "data_1 = stm.DataSelection(dataPath_1)"
   ]
  },
  {
   "cell_type": "markdown",
   "metadata": {
    "deletable": true,
    "editable": true
   },
   "source": [
    "*Hint: If a new dataPath directory is defined, the Python code must be executed from the top again, so that it loads in the changes.*"
   ]
  },
  {
   "cell_type": "markdown",
   "metadata": {
    "deletable": true,
    "editable": true
   },
   "source": [
    "## 2 - Topography analysis <a class=\"anchor\" id=\"2\"></a>"
   ]
  },
  {
   "cell_type": "markdown",
   "metadata": {
    "deletable": true,
    "editable": true
   },
   "source": [
    "This section will explore the analysis of the STM topography scans that were obtained from STM experiments. This is done by using the *stm.STT(data_N, type)* function, which loads in the *data_N* object from Section 1 and executes a specific *type* of analysis. All of the relevant Python code executes the analysis in the background and in real-time, as the widget selections are changed. This is the only section that is split into multiple layers, given the vast amount of permutations that the topography analysis can take. The different layers of the analysis are (i) Leveling operations, (ii) Image operations, (iii) 1D line-profiles and (iv) Fast-fourier transforms.  A detailed explanation of each stage of the topogrphy analysis and the operations available are discussed below."
   ]
  },
  {
   "cell_type": "markdown",
   "metadata": {
    "deletable": true,
    "editable": true
   },
   "source": [
    "### 2.1 - Leveling and Image operations"
   ]
  },
  {
   "cell_type": "markdown",
   "metadata": {
    "deletable": true,
    "editable": true
   },
   "source": [
    "global plane,\n",
    "local plane,\n",
    "linewise subtraction,\n",
    "three-point RoI,\n",
    "polynomial background removal,\n",
    "zeroing the bottom of the stm plot.\n",
    "Print out the dictionary of information next to the figure"
   ]
  },
  {
   "cell_type": "code",
   "execution_count": 5,
   "metadata": {
    "collapsed": false,
    "deletable": true,
    "editable": true,
    "slideshow": {
     "slide_type": "-"
    }
   },
   "outputs": [
    {
     "data": {
      "application/vnd.jupyter.widget-view+json": {
       "model_id": "f2a24ffe44094e4983bf8248637d27c9"
      }
     },
     "metadata": {},
     "output_type": "display_data"
    },
    {
     "data": {
      "application/vnd.jupyter.widget-view+json": {
       "model_id": "08203bb7e96c4d7098a86337b4180dfb"
      }
     },
     "metadata": {},
     "output_type": "display_data"
    }
   ],
   "source": [
    "# Analysing all the topography scans for the selected directory\n",
    "stt_1 = stm.STT(data_1)"
   ]
  },
  {
   "cell_type": "markdown",
   "metadata": {
    "deletable": true,
    "editable": true
   },
   "source": [
    "### 2.2 - 1D line profiles"
   ]
  },
  {
   "cell_type": "markdown",
   "metadata": {
    "deletable": true,
    "editable": true
   },
   "source": [
    "Line profile over given P1 and P2 points in nanometers,\n",
    "Potential to fit a Gaussian, Lorentzian to the line profile and return its maximum height and std. dev.\n",
    "Line profile analysis to fit sinusoid with Gaussians."
   ]
  },
  {
   "cell_type": "code",
   "execution_count": 6,
   "metadata": {
    "collapsed": false,
    "deletable": true,
    "editable": true
   },
   "outputs": [
    {
     "data": {
      "application/vnd.jupyter.widget-view+json": {
       "model_id": "307a6cbc8a2c441eb2e7fdbafeab7edc"
      }
     },
     "metadata": {},
     "output_type": "display_data"
    },
    {
     "data": {
      "application/vnd.jupyter.widget-view+json": {
       "model_id": "1ced11efeab94076b3f7d17a831d7d3a"
      }
     },
     "metadata": {},
     "output_type": "display_data"
    }
   ],
   "source": [
    "# Defining the line profile across the stm topography scan\n",
    "stt_line_1 = stm.STT_lineprof(stt_1)"
   ]
  },
  {
   "cell_type": "code",
   "execution_count": null,
   "metadata": {
    "collapsed": true
   },
   "outputs": [],
   "source": [
    "# Analysing the line profile across the stm topography scan\n",
    "def f(x, a, b, c)\n",
    "    import numpy as np\n",
    "    return a*np.sin(b*x+c)"
   ]
  },
  {
   "cell_type": "markdown",
   "metadata": {},
   "source": [
    "### 2.3 - 1D line profile statistics"
   ]
  },
  {
   "cell_type": "code",
   "execution_count": null,
   "metadata": {
    "collapsed": false
   },
   "outputs": [],
   "source": [
    "import numpy as np\n",
    "points = np.array([[1, 1],\n",
    "                   [6, 5]])\n",
    "\n",
    "A = stt_line_1.nm2pnt(points[1][0], stt_line_1.topo_data)\n",
    "\n",
    "np.max(stt_line_1.line_prof_y)"
   ]
  },
  {
   "cell_type": "markdown",
   "metadata": {
    "deletable": true,
    "editable": true
   },
   "source": [
    "### 2.3 - Fast Fourier Transform"
   ]
  },
  {
   "cell_type": "markdown",
   "metadata": {
    "deletable": true,
    "editable": true
   },
   "source": [
    "Perform a fourier transform of the stm topography image produced."
   ]
  },
  {
   "cell_type": "code",
   "execution_count": null,
   "metadata": {
    "collapsed": true,
    "deletable": true,
    "editable": true
   },
   "outputs": [],
   "source": []
  },
  {
   "cell_type": "markdown",
   "metadata": {
    "deletable": true,
    "editable": true
   },
   "source": [
    "### 2.5 - 3D topography profile"
   ]
  },
  {
   "cell_type": "markdown",
   "metadata": {
    "deletable": true,
    "editable": true
   },
   "source": [
    "1D and 2D FFT filtering"
   ]
  },
  {
   "cell_type": "markdown",
   "metadata": {
    "collapsed": true,
    "deletable": true,
    "editable": true
   },
   "source": [
    "## 3 - Spectroscopy $I(V)$ analysis <a class=\"anchor\" id=\"3\"></a>\n",
    "This section will explore the analysis of $I(V)$ spectroscopy curves that were obtained from STS experiments. This is done by using the *stm.STS(data_N)* function, which loads in the *data_N* object from Section 1. All of the relevant Python code executes the analysis in the background and in real-time, as the widget selections are changed. A detailed explanation of each stage of the $I(V)$ curve analysis and the operations available are discussed below."
   ]
  },
  {
   "cell_type": "code",
   "execution_count": null,
   "metadata": {
    "collapsed": false,
    "deletable": true,
    "editable": true
   },
   "outputs": [],
   "source": [
    "# Analysing all the STM spectroscopy curves for the selected directory\n",
    "sts_1 = stm.STS(data_1)"
   ]
  },
  {
   "cell_type": "markdown",
   "metadata": {
    "deletable": true,
    "editable": true
   },
   "source": [
    "### 3.1 - *Raw $I(V)$ files*\n",
    "The first step is to load in the raw $I(V)$ curves that you wish to browse through, or analyse, by using the '*Raw $I(V)$ files*' scrollable selection box, located on the far left of the interaction pane. This selection box gives you various amounts of flexibility in regards to data selection:\n",
    "- Single $I(V)$ files can be loaded by simply clicking on the file you wish to view.\n",
    "- Multiple $I(V)$ files can be loaded in simultaneously using three methods; \n",
    "    1. <*Ctrl*> (or <*Command*> on Mac) *clicking* on multiple, individual files loads in specific selections of $I(V)$ curves.\n",
    "    2. <*Shift*>* clicking* allows entire blocks of $I(V)$ files to be loaded in.\n",
    "    3. <*Ctrl*>* + A *(or <*Command*>* + A *on Mac) loads in every single $I(V)$ file.\n",
    "\n",
    "*Note: current tests have been performed with over 400 $I(V)$ curves being loaded in simultaneously and the analysis runs fine, but it may take about ~5-10s to execute completly.*\n",
    "\n",
    "The analysis takes into consideration all of the $I(V)$ curves selected, even if they have *different bias ranges* and *grid spacings* between their respective voltage domains;\n",
    "- If multiple $I(V)$ curves are selected with different *bias ranges*, the Python program automatically determines a mutually consistent domain between all the selected $I(V)$ curves. \n",
    "- If any of the $I(V)$ curves selected then have different *grid spacings*, a linearly interpolation is performed, so that they can be sampled onto the mutually consistent voltage domain. \n",
    "\n",
    "Therefore, the Python program essentially performs a cross correlation analysis between all of the selected $I(V)$ curves to ensure consistency in the voltage domain *range* and *grid spacing*. \n",
    "\n",
    "*Note: The voltage domain of the $I(V)$ curves can be selectively controlled by using the 'Restrict $V_{bias}$' slider, which is provided so that the $I(V)$ curves can be easily cropped. This allows you to do two things; (i) any anomalous data or maxed out data can be rejected, or (ii) the voltage bias domain can be restricted so that the maximum tunneling current is identical in the +/- bias regimes. Any $I(V)$ data that is cropped out is displayed as grey points in the corresponding 'Raw $I(V)$'figures.* \n",
    "\n",
    "\n",
    "### 3.2 - *$I(V)$ analysis*\n",
    "The $I(V)$ spectroscopy analysis is split up into three main constituents:\n",
    "\n",
    "**1. Intermediate plots: **\n",
    "This performs the full analysis on all the $I(V)$ curves that have been selected and it's corresponding figure shows each stage of the analysis, which follows the steps outlined below:\n",
    "- **Averaging**: A global average is determined from all the $I(V)$ curves that have been selected. If '*Both*' traces are selected, then the average is taken over all the *traces* and *retraces*, however, the '*Traces*' option is there to allow the data analysis to be executed over just the '*Trace*' or '*Retrace*' $I(V)$ curves, if necessary.\n",
    "- **Smoothing**: There is the option to provide no smoothing at all, but there are two additional options for either *Binomial* and *Savitzky-Golay* smoothing. The Binomial smoothing is effectivly a Gaussian filter and the '*Smoothing order*' option controls the window size over which the Binomial smoothing is performed. The Savitzky-Golay smoothing is the default smoothing method, as it is found to provide much better smoothing in regards to the raw $I(V)$ data. The '*Smoothing order*' option here controls the running polynomials order, with a fixed window size of 51 points. \n",
    "- **Differentiating**: The $dI/dV$ curve that is displayed is the $dI/dV$ curve of the averaged and smoothed raw $I(V)$ data that has been selected. There are two important features that are included in the $dI/dV$ curve; (i) the entire $dI/dV$ curve has been *globally offset along the y-axis* by 1.1 times its minimum value, directly after differentiation, to ensure that there are no negative data points (as they would not be displayed on the semi-log plot of $dI/dV$), (ii) the variance is calculated by finding the difference between the mean $[I(V)]^2$ curves and the mean of the raw $I(V)$ curves.\n",
    "\n",
    "\n",
    "**2. Point STS: **\n",
    "This performs the analysis generally associated with spectroscopy curves that were taken over specific points on the sample surface and it's corresponding figure shows all the raw $I(V)$ curves selected, along with the best estimate for the $dI/dV$ curve and it's band-gap.\n",
    "\n",
    "The most important feature associated with this analysis is the '*Band-gap*' slider, which allows you to selectivly define the location and range of the best estimate to the band gap. The Python program then determines the 1$\\sigma$ and 2$\\sigma$ estimations, based on the band-gap you have defined. The band-gap calculations are as follows:\n",
    "- The voltage domain of the band-gap is directly selected and it's the length, along the voltage domain, defines the band gap. The constant y-axis position is determined by taking the average of the $dI/dV$ curve, over everything that is *within the band-gap window*.\n",
    "- The 1$\\sigma$ and 2$\\sigma$ values of $dI/dV$ are then determined directly from the standard deviation of the $dI/dV$ data that lies *within the band-gap window*, and this can be transposed to get the associated values of the 1$\\sigma$, and 2$\\sigma$, VBM and CBM positions.\n",
    "- All the information associated with the band-gap calculations is shown to the right of the corresponding figure.\n",
    "\n",
    "*Note: The band-gap calculator is very sensitive to the quality of data that is used and it should always be aimed to get a $dI/dV$ curve that looks like a 'V' or 'U'. Bad quality $dI/dV$ curves are ones that look like an 'M', which has minima that are much lower than that of the band-gap itself. In order to rectify this issue with bad data, it is recommended to cut the domain of the $I(V)$ curves (using the *Restrict V* slider), such that these spurious regions are deleted from the edges. This will ensure that the band-gap calculations will always work.\n",
    "*\n",
    "\n",
    "\n",
    "**3. Line STS: **\n",
    "This performs the analysis generally associated with spectroscopy curves that were taken over specific line-profiles on the sample surface (usually over some defect or step edges) and it's corresponding figures shows all the stacked $dI/dV$ curves in comparison the mean $dI/dV$ curve, but also an image of a train of the $dI/dV$ data in the form of an image. \n",
    "\n",
    "The two associated figures with this analysis demonstrate how the $dI/dV$ curves change as a function of the selected $I(V)$ curves;\n",
    "- The *left* figure shows a comparison between all the individual $dI/dV$ curves and their corresponding mean. This gives an illustration of how the $dI/dV$ curves change over the different $I(V)$ curves selected. \n",
    "- The *right* figure shows a train of all the $dI/dV$ curves, stacked in ascending order of file name. This gives a direct illustration of how the $dI/dV$ curves change over the different $I(V)$ curves selected, in the form of a CITS slice. Additionally, the VBM and CBM edges are displayed from the previous band-gap calculations performed in the 'Point STS' analysis and given you have a sufficient amount of $I(V)$ curves (~50+), the band-gap can be checked for consistency from the image.\n",
    "\n",
    "*Note: This analysis section is versatile because it can be used to compare various $I(V)$ curves that were either taken over identical or different regions and see directly how the $dI/dV$ curves change. Hence, this allows you to get good estimates of the band-gap, given that you have obtained a sufficient (~50+) amount of repeats, but to also identify any surface states that exist when $I(V)$ curves are taken alone a pristine-defect-pristine line.\n",
    "*\n",
    "\n",
    "\n",
    "\n",
    "### 3.3 - *Axes controls*\n",
    "Finally, the '*Axes Controls*' are located on the far-right of the interaction pane and the default condition is that all the axes will *auto-scale* to a sensible size, given the selected I(V) files that have been loaded in. If you wish to change the limits on both the *x-* and *y-*axes directly, you can do this by selecting the '*Axes limit*' button;\n",
    "- The voltage bias *V* slider simply controls the limits over the voltage-domain for all of the figures.\n",
    "- The tunneling current *I* slider controls the symmetrical value of the tunneling current limit along the '*y-*axes' of the figures.\n",
    "- The *dI/dV* slider controls the maximum value of *dI/dV* that appears in the figures and, by default, its minimum is taken at the location of the minimum *dI/dV* value. One important side-note is that you can use the '*dI/dV*' slider as a method to actively control the contrast of the image formed in the *Line STS* analysis section too.\n",
    "\n",
    "\n",
    "*Note: If the axes are made smaller than the data being displayed in the figure, the data *does not get deleted or chopped*, rather it just remains invisible and off the axis.*"
   ]
  },
  {
   "cell_type": "markdown",
   "metadata": {
    "collapsed": true,
    "deletable": true,
    "editable": true
   },
   "source": [
    "## 4 - Current-distance I(z) analysis <a class=\"anchor\" id=\"4\"></a>"
   ]
  },
  {
   "cell_type": "markdown",
   "metadata": {
    "deletable": true,
    "editable": true
   },
   "source": [
    "This section will explore the analysis of $I(Z)$ curves by using the *stm.STZ(data_N)* function, which loads in the *data_N* object from Section 1. All of the relevant Python code executes the analysis in the background and in real-time, as the widget selections are changed. A detailed explanation of each stage of the $I(Z)$ curve analysis and the operations available are discussed below."
   ]
  },
  {
   "cell_type": "code",
   "execution_count": null,
   "metadata": {
    "collapsed": false,
    "deletable": true,
    "editable": true
   },
   "outputs": [],
   "source": [
    "# Analysing all the STM spectroscopy curves for the selected directory`\n",
    "stz_1 = stm.STZ(data_1)"
   ]
  },
  {
   "cell_type": "markdown",
   "metadata": {
    "deletable": true,
    "editable": true
   },
   "source": [
    "The zero point of the I(Z) curve is the position that the tip is when it reaches the set-point. It does not give the tip-sample distance! But the I(Z) curve can be used as calibration, provided that the same set point is used for all the scans.\n",
    "\n",
    "Make a plot of I(Z) as a function of the voltage bias and then you can make a plot of Kappa as a function of the voltage bias, which then gives you the work fucntion as a fuction of voltage bias, from which you can extract the extent of the band bending as a fucntion of the voltage bias, which you can then potentially use to correct the geometry of a CITS scan too."
   ]
  },
  {
   "cell_type": "markdown",
   "metadata": {
    "deletable": true,
    "editable": true
   },
   "source": [
    "## 5 - Current-imaging-tunneling spectroscopy (CITS) analysis <a class=\"anchor\" id=\"5\"></a>"
   ]
  },
  {
   "cell_type": "markdown",
   "metadata": {
    "deletable": true,
    "editable": true
   },
   "source": [
    "\n",
    "CITS scans are completly seperate to all other scans.\n",
    "Use matlab to get 3D image of the CITS map.\n",
    "\n",
    "\n",
    "5.1 - Raw CITS scans.\n",
    "\n",
    "\n",
    "5.2 - Topography correctd CITS (fixed kappa)\n",
    "\n",
    "5.3 - Topography corrected CITS (using deltaz)"
   ]
  },
  {
   "cell_type": "markdown",
   "metadata": {
    "collapsed": true,
    "deletable": true,
    "editable": true
   },
   "source": [
    "## 6 - Supplementary information  <a class=\"anchor\" id=\"6\"></a>"
   ]
  },
  {
   "cell_type": "markdown",
   "metadata": {
    "collapsed": false,
    "deletable": true,
    "editable": true
   },
   "source": [
    "- *If you perform all the analysis and then change the selected folder in '1 - Data Selection' you will need to run the code consecutively again.*\n",
    "\n",
    "- *If you want to load in multiple files from different directories, this can be performed by creating a new Class that yield. *\n",
    "\n",
    "- *If you double click on any of the figures produced, it will zoom in.*\n",
    "\n",
    "- *Do not save CITS files in the same folder as STS curves because they have the same '.I(V)_flat' format which the Python program cannot distinguish between. Instead, create a seperate CITS directory with all the CITS scans placed inside that.*"
   ]
  }
 ],
 "metadata": {
  "kernelspec": {
   "display_name": "Python 3",
   "language": "python",
   "name": "python3"
  },
  "language_info": {
   "codemirror_mode": {
    "name": "ipython",
    "version": 3
   },
   "file_extension": ".py",
   "mimetype": "text/x-python",
   "name": "python",
   "nbconvert_exporter": "python",
   "pygments_lexer": "ipython3",
   "version": "3.6.0"
  }
 },
 "nbformat": 4,
 "nbformat_minor": 0
}
